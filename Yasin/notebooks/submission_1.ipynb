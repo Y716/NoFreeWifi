{
  "cells": [
    {
      "cell_type": "markdown",
      "metadata": {},
      "source": [
        "## Importing Libraries"
      ]
    },
    {
      "cell_type": "code",
      "execution_count": 55,
      "metadata": {
        "colab": {
          "base_uri": "https://localhost:8080/",
          "height": 419
        },
        "id": "pGEGh2lOXnTJ",
        "outputId": "cf2f5bc7-23fc-4421-a68e-7510d63f9566"
      },
      "outputs": [],
      "source": [
        "# Pake yang ini\n",
        "import numpy as np\n",
        "import pandas as pd\n",
        "import matplotlib.pyplot as plt\n",
        "import seaborn as sns\n",
        "from sklearn.preprocessing import LabelEncoder\n",
        "from sklearn.svm import SVC\n",
        "from sklearn.neighbors import KNeighborsClassifier\n",
        "from sklearn.naive_bayes import GaussianNB\n",
        "from sklearn.metrics import roc_curve, roc_auc_score\n",
        "from sklearn.model_selection import train_test_split\n",
        "from sklearn.metrics import mean_squared_error\n",
        "from sklearn.preprocessing import MinMaxScaler\n",
        "\n",
        "\n",
        "from fast_ml.model_development import train_valid_test_split\n"
      ]
    },
    {
      "cell_type": "markdown",
      "metadata": {},
      "source": [
        "## Data Extraction"
      ]
    },
    {
      "cell_type": "code",
      "execution_count": 56,
      "metadata": {},
      "outputs": [],
      "source": [
        "TRAIN_PATH = r'../../Datasets/train.csv'\n",
        "TEST_PATH = r'../../Datasets/test.csv'\n",
        "SAMPLE_SUBMISSION_PATH = r\"../../Datasets/sample_submission.csv\""
      ]
    },
    {
      "cell_type": "code",
      "execution_count": 57,
      "metadata": {},
      "outputs": [],
      "source": [
        "train_dat = pd.read_csv(TRAIN_PATH)\n",
        "test_dat = pd.read_csv(TEST_PATH)"
      ]
    },
    {
      "cell_type": "code",
      "execution_count": 58,
      "metadata": {},
      "outputs": [
        {
          "name": "stdout",
          "output_type": "stream",
          "text": [
            "<class 'pandas.core.frame.DataFrame'>\n",
            "RangeIndex: 26570 entries, 0 to 26569\n",
            "Data columns (total 26 columns):\n",
            " #   Column          Non-Null Count  Dtype  \n",
            "---  ------          --------------  -----  \n",
            " 0   id              26570 non-null  int64  \n",
            " 1   product_code    26570 non-null  object \n",
            " 2   loading         26320 non-null  float64\n",
            " 3   attribute_0     26570 non-null  object \n",
            " 4   attribute_1     26570 non-null  object \n",
            " 5   attribute_2     26570 non-null  int64  \n",
            " 6   attribute_3     26570 non-null  int64  \n",
            " 7   measurement_0   26570 non-null  int64  \n",
            " 8   measurement_1   26570 non-null  int64  \n",
            " 9   measurement_2   26570 non-null  int64  \n",
            " 10  measurement_3   26189 non-null  float64\n",
            " 11  measurement_4   26032 non-null  float64\n",
            " 12  measurement_5   25894 non-null  float64\n",
            " 13  measurement_6   25774 non-null  float64\n",
            " 14  measurement_7   25633 non-null  float64\n",
            " 15  measurement_8   25522 non-null  float64\n",
            " 16  measurement_9   25343 non-null  float64\n",
            " 17  measurement_10  25270 non-null  float64\n",
            " 18  measurement_11  25102 non-null  float64\n",
            " 19  measurement_12  24969 non-null  float64\n",
            " 20  measurement_13  24796 non-null  float64\n",
            " 21  measurement_14  24696 non-null  float64\n",
            " 22  measurement_15  24561 non-null  float64\n",
            " 23  measurement_16  24460 non-null  float64\n",
            " 24  measurement_17  24286 non-null  float64\n",
            " 25  failure         26570 non-null  int64  \n",
            "dtypes: float64(16), int64(7), object(3)\n",
            "memory usage: 5.3+ MB\n"
          ]
        }
      ],
      "source": [
        "train_dat.info()"
      ]
    },
    {
      "cell_type": "markdown",
      "metadata": {},
      "source": [
        "## Data Prep\n"
      ]
    },
    {
      "cell_type": "code",
      "execution_count": 59,
      "metadata": {},
      "outputs": [],
      "source": [
        "#drop id\n",
        "train_dat = train_dat.drop(columns='id')\n",
        "test_dat = test_dat.drop(columns='id')\n"
      ]
    },
    {
      "cell_type": "code",
      "execution_count": 62,
      "metadata": {},
      "outputs": [
        {
          "data": {
            "text/plain": [
              "product_code      26570\n",
              "loading           26570\n",
              "attribute_0       26570\n",
              "attribute_1       26570\n",
              "attribute_2       26570\n",
              "attribute_3       26570\n",
              "measurement_0     26570\n",
              "measurement_1     26570\n",
              "measurement_2     26570\n",
              "measurement_3     26570\n",
              "measurement_4     26570\n",
              "measurement_5     26570\n",
              "measurement_6     26570\n",
              "measurement_7     26570\n",
              "measurement_8     26570\n",
              "measurement_9     26570\n",
              "measurement_10    26570\n",
              "measurement_11    26570\n",
              "measurement_12    26570\n",
              "measurement_13    26570\n",
              "measurement_14    26570\n",
              "measurement_15    26570\n",
              "measurement_16    26570\n",
              "measurement_17    26570\n",
              "failure           26570\n",
              "dtype: int64"
            ]
          },
          "execution_count": 62,
          "metadata": {},
          "output_type": "execute_result"
        }
      ],
      "source": [
        "train_dat.isnull().count()"
      ]
    },
    {
      "cell_type": "markdown",
      "metadata": {},
      "source": [
        "### Null Handling"
      ]
    },
    {
      "cell_type": "code",
      "execution_count": 30,
      "metadata": {},
      "outputs": [
        {
          "name": "stdout",
          "output_type": "stream",
          "text": [
            "<class 'pandas.core.frame.DataFrame'>\n",
            "RangeIndex: 26570 entries, 0 to 26569\n",
            "Data columns (total 25 columns):\n",
            " #   Column          Non-Null Count  Dtype  \n",
            "---  ------          --------------  -----  \n",
            " 0   product_code    26570 non-null  object \n",
            " 1   loading         26570 non-null  float64\n",
            " 2   attribute_0     26570 non-null  object \n",
            " 3   attribute_1     26570 non-null  object \n",
            " 4   attribute_2     26570 non-null  int64  \n",
            " 5   attribute_3     26570 non-null  int64  \n",
            " 6   measurement_0   26570 non-null  int64  \n",
            " 7   measurement_1   26570 non-null  int64  \n",
            " 8   measurement_2   26570 non-null  int64  \n",
            " 9   measurement_3   26570 non-null  float64\n",
            " 10  measurement_4   26570 non-null  float64\n",
            " 11  measurement_5   26570 non-null  float64\n",
            " 12  measurement_6   26570 non-null  float64\n",
            " 13  measurement_7   26570 non-null  float64\n",
            " 14  measurement_8   26570 non-null  float64\n",
            " 15  measurement_9   26570 non-null  float64\n",
            " 16  measurement_10  26570 non-null  float64\n",
            " 17  measurement_11  26570 non-null  float64\n",
            " 18  measurement_12  26570 non-null  float64\n",
            " 19  measurement_13  26570 non-null  float64\n",
            " 20  measurement_14  26570 non-null  float64\n",
            " 21  measurement_15  26570 non-null  float64\n",
            " 22  measurement_16  26570 non-null  float64\n",
            " 23  measurement_17  26570 non-null  float64\n",
            " 24  failure         26570 non-null  int64  \n",
            "dtypes: float64(16), int64(6), object(3)\n",
            "memory usage: 5.1+ MB\n"
          ]
        }
      ],
      "source": [
        "# fill null values with mean\n",
        "train_dat = train_dat.fillna(train_dat.mean())\n",
        "test_dat = test_dat.fillna(test_dat.mean())\n",
        "\n",
        "train_dat.info()"
      ]
    },
    {
      "cell_type": "markdown",
      "metadata": {},
      "source": [
        "### Encoding"
      ]
    },
    {
      "cell_type": "markdown",
      "metadata": {},
      "source": [
        "#### One hot encoding"
      ]
    },
    {
      "cell_type": "code",
      "execution_count": 31,
      "metadata": {},
      "outputs": [],
      "source": [
        "# Perform one-hot encoding\n",
        "train_dat = pd.get_dummies(train_dat, columns=['attribute_0', 'attribute_1'])\n",
        "test_dat = pd.get_dummies(test_dat, columns=['attribute_0', 'attribute_1'])"
      ]
    },
    {
      "cell_type": "code",
      "execution_count": 32,
      "metadata": {},
      "outputs": [
        {
          "name": "stdout",
          "output_type": "stream",
          "text": [
            "<class 'pandas.core.frame.DataFrame'>\n",
            "RangeIndex: 20775 entries, 0 to 20774\n",
            "Data columns (total 27 columns):\n",
            " #   Column                  Non-Null Count  Dtype  \n",
            "---  ------                  --------------  -----  \n",
            " 0   product_code            20775 non-null  object \n",
            " 1   loading                 20775 non-null  float64\n",
            " 2   attribute_2             20775 non-null  int64  \n",
            " 3   attribute_3             20775 non-null  int64  \n",
            " 4   measurement_0           20775 non-null  int64  \n",
            " 5   measurement_1           20775 non-null  int64  \n",
            " 6   measurement_2           20775 non-null  int64  \n",
            " 7   measurement_3           20775 non-null  float64\n",
            " 8   measurement_4           20775 non-null  float64\n",
            " 9   measurement_5           20775 non-null  float64\n",
            " 10  measurement_6           20775 non-null  float64\n",
            " 11  measurement_7           20775 non-null  float64\n",
            " 12  measurement_8           20775 non-null  float64\n",
            " 13  measurement_9           20775 non-null  float64\n",
            " 14  measurement_10          20775 non-null  float64\n",
            " 15  measurement_11          20775 non-null  float64\n",
            " 16  measurement_12          20775 non-null  float64\n",
            " 17  measurement_13          20775 non-null  float64\n",
            " 18  measurement_14          20775 non-null  float64\n",
            " 19  measurement_15          20775 non-null  float64\n",
            " 20  measurement_16          20775 non-null  float64\n",
            " 21  measurement_17          20775 non-null  float64\n",
            " 22  attribute_0_material_5  20775 non-null  uint8  \n",
            " 23  attribute_0_material_7  20775 non-null  uint8  \n",
            " 24  attribute_1_material_5  20775 non-null  uint8  \n",
            " 25  attribute_1_material_6  20775 non-null  uint8  \n",
            " 26  attribute_1_material_7  20775 non-null  uint8  \n",
            "dtypes: float64(16), int64(5), object(1), uint8(5)\n",
            "memory usage: 3.6+ MB\n"
          ]
        }
      ],
      "source": [
        "test_dat.info()"
      ]
    },
    {
      "cell_type": "markdown",
      "metadata": {},
      "source": [
        "#### Label Encoding"
      ]
    },
    {
      "cell_type": "code",
      "execution_count": 33,
      "metadata": {},
      "outputs": [],
      "source": [
        "label_encoder = LabelEncoder()\n",
        "train_dat['product_code_encoded'] = label_encoder.fit_transform(train_dat['product_code'])\n",
        "train_dat =train_dat.drop(columns='product_code')\n",
        "test_dat['product_code_encoded'] = label_encoder.fit_transform(test_dat['product_code'])\n",
        "test_dat =test_dat.drop(columns='product_code')\n"
      ]
    },
    {
      "cell_type": "code",
      "execution_count": 34,
      "metadata": {},
      "outputs": [
        {
          "data": {
            "text/html": [
              "<div>\n",
              "<style scoped>\n",
              "    .dataframe tbody tr th:only-of-type {\n",
              "        vertical-align: middle;\n",
              "    }\n",
              "\n",
              "    .dataframe tbody tr th {\n",
              "        vertical-align: top;\n",
              "    }\n",
              "\n",
              "    .dataframe thead th {\n",
              "        text-align: right;\n",
              "    }\n",
              "</style>\n",
              "<table border=\"1\" class=\"dataframe\">\n",
              "  <thead>\n",
              "    <tr style=\"text-align: right;\">\n",
              "      <th></th>\n",
              "      <th>loading</th>\n",
              "      <th>attribute_2</th>\n",
              "      <th>attribute_3</th>\n",
              "      <th>measurement_0</th>\n",
              "      <th>measurement_1</th>\n",
              "      <th>measurement_2</th>\n",
              "      <th>measurement_3</th>\n",
              "      <th>measurement_4</th>\n",
              "      <th>measurement_5</th>\n",
              "      <th>measurement_6</th>\n",
              "      <th>...</th>\n",
              "      <th>measurement_14</th>\n",
              "      <th>measurement_15</th>\n",
              "      <th>measurement_16</th>\n",
              "      <th>measurement_17</th>\n",
              "      <th>attribute_0_material_5</th>\n",
              "      <th>attribute_0_material_7</th>\n",
              "      <th>attribute_1_material_5</th>\n",
              "      <th>attribute_1_material_6</th>\n",
              "      <th>attribute_1_material_7</th>\n",
              "      <th>product_code_encoded</th>\n",
              "    </tr>\n",
              "  </thead>\n",
              "  <tbody>\n",
              "    <tr>\n",
              "      <th>0</th>\n",
              "      <td>119.57</td>\n",
              "      <td>6</td>\n",
              "      <td>4</td>\n",
              "      <td>6</td>\n",
              "      <td>9</td>\n",
              "      <td>6</td>\n",
              "      <td>19.305</td>\n",
              "      <td>10.178</td>\n",
              "      <td>17.534</td>\n",
              "      <td>18.168</td>\n",
              "      <td>...</td>\n",
              "      <td>16.825</td>\n",
              "      <td>13.742</td>\n",
              "      <td>17.710</td>\n",
              "      <td>634.612</td>\n",
              "      <td>1</td>\n",
              "      <td>0</td>\n",
              "      <td>0</td>\n",
              "      <td>1</td>\n",
              "      <td>0</td>\n",
              "      <td>0</td>\n",
              "    </tr>\n",
              "    <tr>\n",
              "      <th>1</th>\n",
              "      <td>113.51</td>\n",
              "      <td>6</td>\n",
              "      <td>4</td>\n",
              "      <td>11</td>\n",
              "      <td>8</td>\n",
              "      <td>0</td>\n",
              "      <td>17.883</td>\n",
              "      <td>11.927</td>\n",
              "      <td>17.228</td>\n",
              "      <td>16.033</td>\n",
              "      <td>...</td>\n",
              "      <td>16.708</td>\n",
              "      <td>14.776</td>\n",
              "      <td>14.102</td>\n",
              "      <td>537.037</td>\n",
              "      <td>1</td>\n",
              "      <td>0</td>\n",
              "      <td>0</td>\n",
              "      <td>1</td>\n",
              "      <td>0</td>\n",
              "      <td>0</td>\n",
              "    </tr>\n",
              "    <tr>\n",
              "      <th>2</th>\n",
              "      <td>112.16</td>\n",
              "      <td>6</td>\n",
              "      <td>4</td>\n",
              "      <td>8</td>\n",
              "      <td>12</td>\n",
              "      <td>4</td>\n",
              "      <td>18.475</td>\n",
              "      <td>10.481</td>\n",
              "      <td>16.619</td>\n",
              "      <td>18.189</td>\n",
              "      <td>...</td>\n",
              "      <td>15.737</td>\n",
              "      <td>17.065</td>\n",
              "      <td>16.021</td>\n",
              "      <td>658.995</td>\n",
              "      <td>1</td>\n",
              "      <td>0</td>\n",
              "      <td>0</td>\n",
              "      <td>1</td>\n",
              "      <td>0</td>\n",
              "      <td>0</td>\n",
              "    </tr>\n",
              "    <tr>\n",
              "      <th>3</th>\n",
              "      <td>112.72</td>\n",
              "      <td>6</td>\n",
              "      <td>4</td>\n",
              "      <td>8</td>\n",
              "      <td>11</td>\n",
              "      <td>10</td>\n",
              "      <td>16.518</td>\n",
              "      <td>10.888</td>\n",
              "      <td>15.293</td>\n",
              "      <td>18.592</td>\n",
              "      <td>...</td>\n",
              "      <td>15.667</td>\n",
              "      <td>12.620</td>\n",
              "      <td>16.111</td>\n",
              "      <td>594.301</td>\n",
              "      <td>1</td>\n",
              "      <td>0</td>\n",
              "      <td>0</td>\n",
              "      <td>1</td>\n",
              "      <td>0</td>\n",
              "      <td>0</td>\n",
              "    </tr>\n",
              "    <tr>\n",
              "      <th>4</th>\n",
              "      <td>208.00</td>\n",
              "      <td>6</td>\n",
              "      <td>4</td>\n",
              "      <td>14</td>\n",
              "      <td>16</td>\n",
              "      <td>8</td>\n",
              "      <td>17.808</td>\n",
              "      <td>12.693</td>\n",
              "      <td>17.678</td>\n",
              "      <td>15.814</td>\n",
              "      <td>...</td>\n",
              "      <td>16.183</td>\n",
              "      <td>13.324</td>\n",
              "      <td>17.150</td>\n",
              "      <td>801.044</td>\n",
              "      <td>1</td>\n",
              "      <td>0</td>\n",
              "      <td>0</td>\n",
              "      <td>1</td>\n",
              "      <td>0</td>\n",
              "      <td>0</td>\n",
              "    </tr>\n",
              "  </tbody>\n",
              "</table>\n",
              "<p>5 rows × 27 columns</p>\n",
              "</div>"
            ],
            "text/plain": [
              "   loading  attribute_2  attribute_3  measurement_0  measurement_1  \\\n",
              "0   119.57            6            4              6              9   \n",
              "1   113.51            6            4             11              8   \n",
              "2   112.16            6            4              8             12   \n",
              "3   112.72            6            4              8             11   \n",
              "4   208.00            6            4             14             16   \n",
              "\n",
              "   measurement_2  measurement_3  measurement_4  measurement_5  measurement_6  \\\n",
              "0              6         19.305         10.178         17.534         18.168   \n",
              "1              0         17.883         11.927         17.228         16.033   \n",
              "2              4         18.475         10.481         16.619         18.189   \n",
              "3             10         16.518         10.888         15.293         18.592   \n",
              "4              8         17.808         12.693         17.678         15.814   \n",
              "\n",
              "   ...  measurement_14  measurement_15  measurement_16  measurement_17  \\\n",
              "0  ...          16.825          13.742          17.710         634.612   \n",
              "1  ...          16.708          14.776          14.102         537.037   \n",
              "2  ...          15.737          17.065          16.021         658.995   \n",
              "3  ...          15.667          12.620          16.111         594.301   \n",
              "4  ...          16.183          13.324          17.150         801.044   \n",
              "\n",
              "   attribute_0_material_5  attribute_0_material_7  attribute_1_material_5  \\\n",
              "0                       1                       0                       0   \n",
              "1                       1                       0                       0   \n",
              "2                       1                       0                       0   \n",
              "3                       1                       0                       0   \n",
              "4                       1                       0                       0   \n",
              "\n",
              "   attribute_1_material_6  attribute_1_material_7  product_code_encoded  \n",
              "0                       1                       0                     0  \n",
              "1                       1                       0                     0  \n",
              "2                       1                       0                     0  \n",
              "3                       1                       0                     0  \n",
              "4                       1                       0                     0  \n",
              "\n",
              "[5 rows x 27 columns]"
            ]
          },
          "execution_count": 34,
          "metadata": {},
          "output_type": "execute_result"
        }
      ],
      "source": [
        "test_dat.head()"
      ]
    },
    {
      "cell_type": "markdown",
      "metadata": {},
      "source": [
        "# Data Preprocessing"
      ]
    },
    {
      "cell_type": "markdown",
      "metadata": {},
      "source": [
        "Feature Engineering"
      ]
    },
    {
      "cell_type": "markdown",
      "metadata": {},
      "source": [
        "Outlier Handling"
      ]
    },
    {
      "cell_type": "markdown",
      "metadata": {},
      "source": [
        "# SPLIT TRAIN AND TEST"
      ]
    },
    {
      "cell_type": "code",
      "execution_count": 35,
      "metadata": {},
      "outputs": [],
      "source": [
        "# Memisahkan fitur dengan target\n",
        "full_train = train_dat.drop(columns=[\"failure\"])\n",
        "full_target = train_dat[\"failure\"]"
      ]
    },
    {
      "cell_type": "code",
      "execution_count": 36,
      "metadata": {
        "id": "mSRiKNXrb47c"
      },
      "outputs": [],
      "source": [
        "# Train test split\n",
        "X_train, X_test, y_train, y_test = train_test_split(\n",
        "                                        full_train,\n",
        "                                        full_target,\n",
        "                                        test_size=0.3,\n",
        "                                        random_state=42,\n",
        "                                        )"
      ]
    },
    {
      "cell_type": "markdown",
      "metadata": {},
      "source": [
        "# FEATURE SCALING"
      ]
    },
    {
      "cell_type": "code",
      "execution_count": 37,
      "metadata": {
        "id": "6ozDzrB8bh0e"
      },
      "outputs": [],
      "source": [
        "scaler = MinMaxScaler()\n",
        "X_train = scaler.fit_transform(X_train)\n",
        "X_test = scaler.transform(X_test)"
      ]
    },
    {
      "cell_type": "code",
      "execution_count": 38,
      "metadata": {
        "colab": {
          "base_uri": "https://localhost:8080/"
        },
        "id": "5ozhFADaeMUr",
        "outputId": "7717c149-903b-4b60-915b-b938f2522695"
      },
      "outputs": [
        {
          "name": "stdout",
          "output_type": "stream",
          "text": [
            "(18599, 27)\n",
            "(7971, 27)\n"
          ]
        }
      ],
      "source": [
        "print(X_train.shape)\n",
        "print(X_test.shape)"
      ]
    },
    {
      "cell_type": "markdown",
      "metadata": {},
      "source": [
        "#  MODEL"
      ]
    },
    {
      "cell_type": "code",
      "execution_count": 46,
      "metadata": {
        "id": "rcAQAs-DeWTt"
      },
      "outputs": [],
      "source": [
        "def metrics(y_true, y_pred):\n",
        "    print(\"ROC_AUC  :\", roc_auc_score(y_true, y_pred))\n",
        "\n",
        "def train_eval_models(models: dict, X_train, X_test, y_train, y_test):\n",
        "    for model in models:\n",
        "        m = model\n",
        "        m.fit(X_train, y_train)\n",
        "        y_pred = m.predict(X_test)\n",
        "        print(model.__class__.__name__, models[model])\n",
        "        metrics(y_test, y_pred)"
      ]
    },
    {
      "cell_type": "markdown",
      "metadata": {},
      "source": [
        "### SVM, KNN, Naive Bayes"
      ]
    },
    {
      "cell_type": "markdown",
      "metadata": {},
      "source": [
        "## SVM"
      ]
    },
    {
      "cell_type": "code",
      "execution_count": 40,
      "metadata": {},
      "outputs": [
        {
          "name": "stdout",
          "output_type": "stream",
          "text": [
            "MSE  : 0.20687492159076654\n",
            "RMSE : 0.4548350487712733\n"
          ]
        }
      ],
      "source": [
        "svm_model = SVC()\n",
        "svm_model.fit(X_train, y_train)\n",
        "\n",
        "y_pred = svm_model.predict(X_test)\n",
        "\n",
        "metrics(y_test, y_pred)"
      ]
    },
    {
      "cell_type": "markdown",
      "metadata": {},
      "source": [
        "## KNN"
      ]
    },
    {
      "cell_type": "code",
      "execution_count": 47,
      "metadata": {},
      "outputs": [
        {
          "name": "stdout",
          "output_type": "stream",
          "text": [
            "ROC_AUC  : 0.5038937732050849\n"
          ]
        }
      ],
      "source": [
        "knn_model = KNeighborsClassifier()\n",
        "knn_model.fit(X_train, y_train)\n",
        "\n",
        "y_pred = knn_model.predict(X_test)\n",
        "\n",
        "metrics(y_test, y_pred)"
      ]
    },
    {
      "cell_type": "markdown",
      "metadata": {},
      "source": [
        "## Naive Bayes"
      ]
    },
    {
      "cell_type": "code",
      "execution_count": 48,
      "metadata": {},
      "outputs": [
        {
          "name": "stdout",
          "output_type": "stream",
          "text": [
            "ROC_AUC  : 0.5093611708341256\n"
          ]
        }
      ],
      "source": [
        "nb_model = GaussianNB()\n",
        "nb_model.fit(X_train, y_train)\n",
        "\n",
        "y_pred = nb_model.predict(X_test)\n",
        "\n",
        "metrics(y_test, y_pred)"
      ]
    },
    {
      "cell_type": "markdown",
      "metadata": {},
      "source": [
        "# Kaggle Submission\n"
      ]
    },
    {
      "cell_type": "code",
      "execution_count": 43,
      "metadata": {},
      "outputs": [],
      "source": [
        "submission = pd.read_csv(SAMPLE_SUBMISSION_PATH)\n",
        "submission['failure'] = knn_model.predict(test_dat)\n",
        "submission.to_csv('../submissions/testing_2.csv', index=False)"
      ]
    },
    {
      "cell_type": "code",
      "execution_count": 20,
      "metadata": {},
      "outputs": [],
      "source": [
        "file = pd.read_csv('../submissions/submission_1.csv')"
      ]
    },
    {
      "cell_type": "code",
      "execution_count": 21,
      "metadata": {},
      "outputs": [
        {
          "name": "stdout",
          "output_type": "stream",
          "text": [
            "0     9129\n",
            "1    11646\n",
            "Name: failure, dtype: int64\n"
          ]
        }
      ],
      "source": [
        "count_promosi = file['failure'].value_counts().sort_index()\n",
        "print(count_promosi)"
      ]
    },
    {
      "cell_type": "code",
      "execution_count": 24,
      "metadata": {},
      "outputs": [
        {
          "name": "stdout",
          "output_type": "stream",
          "text": [
            "0    20774\n",
            "1        1\n",
            "Name: failure, dtype: int64\n"
          ]
        }
      ],
      "source": [
        "file = pd.read_csv('../submissions/testing_2.csv')\n",
        "count_promosi = file['failure'].value_counts().sort_index()\n",
        "print(count_promosi)"
      ]
    },
    {
      "cell_type": "code",
      "execution_count": null,
      "metadata": {},
      "outputs": [],
      "source": []
    }
  ],
  "metadata": {
    "colab": {
      "collapsed_sections": [
        "iFPNmVB20MRF"
      ],
      "provenance": []
    },
    "kernelspec": {
      "display_name": "Python 3",
      "name": "python3"
    },
    "language_info": {
      "codemirror_mode": {
        "name": "ipython",
        "version": 3
      },
      "file_extension": ".py",
      "mimetype": "text/x-python",
      "name": "python",
      "nbconvert_exporter": "python",
      "pygments_lexer": "ipython3",
      "version": "3.11.1"
    }
  },
  "nbformat": 4,
  "nbformat_minor": 0
}
