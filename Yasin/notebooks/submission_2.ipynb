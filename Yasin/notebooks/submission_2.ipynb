{
  "cells": [
    {
      "cell_type": "markdown",
      "metadata": {},
      "source": [
        "## Importing Libraries"
      ]
    },
    {
      "cell_type": "code",
      "execution_count": 4,
      "metadata": {
        "colab": {
          "base_uri": "https://localhost:8080/",
          "height": 419
        },
        "id": "pGEGh2lOXnTJ",
        "outputId": "cf2f5bc7-23fc-4421-a68e-7510d63f9566"
      },
      "outputs": [],
      "source": [
        "# Pake yang ini\n",
        "import numpy as np\n",
        "import pandas as pd\n",
        "import matplotlib.pyplot as plt\n",
        "import seaborn as sns\n",
        "from sklearn.preprocessing import LabelEncoder\n",
        "from sklearn.svm import SVC\n",
        "from sklearn.neighbors import KNeighborsClassifier\n",
        "from sklearn.naive_bayes import GaussianNB\n",
        "from sklearn.metrics import roc_curve, roc_auc_score\n",
        "from sklearn.preprocessing import MinMaxScaler\n",
        "\n",
        "\n",
        "from fast_ml.model_development import train_valid_test_split\n"
      ]
    },
    {
      "cell_type": "markdown",
      "metadata": {},
      "source": [
        "## Data Extraction"
      ]
    },
    {
      "cell_type": "code",
      "execution_count": 15,
      "metadata": {},
      "outputs": [],
      "source": [
        "TRAIN_PATH = r'../../Datasets/train.csv'\n",
        "TEST_PATH = r'../../Datasets/test.csv'\n",
        "SAMPLE_SUBMISSION_PATH = r\"../../Datasets/sample_submission.csv\""
      ]
    },
    {
      "cell_type": "code",
      "execution_count": 16,
      "metadata": {},
      "outputs": [],
      "source": [
        "train_dat = pd.read_csv(TRAIN_PATH)\n",
        "test_dat = pd.read_csv(TEST_PATH)"
      ]
    },
    {
      "cell_type": "code",
      "execution_count": 17,
      "metadata": {},
      "outputs": [
        {
          "name": "stdout",
          "output_type": "stream",
          "text": [
            "<class 'pandas.core.frame.DataFrame'>\n",
            "RangeIndex: 26570 entries, 0 to 26569\n",
            "Data columns (total 26 columns):\n",
            " #   Column          Non-Null Count  Dtype  \n",
            "---  ------          --------------  -----  \n",
            " 0   id              26570 non-null  int64  \n",
            " 1   product_code    26570 non-null  object \n",
            " 2   loading         26320 non-null  float64\n",
            " 3   attribute_0     26570 non-null  object \n",
            " 4   attribute_1     26570 non-null  object \n",
            " 5   attribute_2     26570 non-null  int64  \n",
            " 6   attribute_3     26570 non-null  int64  \n",
            " 7   measurement_0   26570 non-null  int64  \n",
            " 8   measurement_1   26570 non-null  int64  \n",
            " 9   measurement_2   26570 non-null  int64  \n",
            " 10  measurement_3   26189 non-null  float64\n",
            " 11  measurement_4   26032 non-null  float64\n",
            " 12  measurement_5   25894 non-null  float64\n",
            " 13  measurement_6   25774 non-null  float64\n",
            " 14  measurement_7   25633 non-null  float64\n",
            " 15  measurement_8   25522 non-null  float64\n",
            " 16  measurement_9   25343 non-null  float64\n",
            " 17  measurement_10  25270 non-null  float64\n",
            " 18  measurement_11  25102 non-null  float64\n",
            " 19  measurement_12  24969 non-null  float64\n",
            " 20  measurement_13  24796 non-null  float64\n",
            " 21  measurement_14  24696 non-null  float64\n",
            " 22  measurement_15  24561 non-null  float64\n",
            " 23  measurement_16  24460 non-null  float64\n",
            " 24  measurement_17  24286 non-null  float64\n",
            " 25  failure         26570 non-null  int64  \n",
            "dtypes: float64(16), int64(7), object(3)\n",
            "memory usage: 5.3+ MB\n"
          ]
        }
      ],
      "source": [
        "train_dat.info()"
      ]
    },
    {
      "cell_type": "markdown",
      "metadata": {},
      "source": [
        "## Data Prep\n"
      ]
    },
    {
      "cell_type": "code",
      "execution_count": 18,
      "metadata": {},
      "outputs": [],
      "source": [
        "#drop id\n",
        "train_dat = train_dat.drop(columns='id')\n",
        "test_dat = test_dat.drop(columns='id')\n"
      ]
    },
    {
      "cell_type": "markdown",
      "metadata": {},
      "source": [
        "### Null Handling"
      ]
    },
    {
      "cell_type": "code",
      "execution_count": 19,
      "metadata": {},
      "outputs": [
        {
          "name": "stdout",
          "output_type": "stream",
          "text": [
            "<class 'pandas.core.frame.DataFrame'>\n",
            "RangeIndex: 26570 entries, 0 to 26569\n",
            "Data columns (total 25 columns):\n",
            " #   Column          Non-Null Count  Dtype  \n",
            "---  ------          --------------  -----  \n",
            " 0   product_code    26570 non-null  object \n",
            " 1   loading         26570 non-null  float64\n",
            " 2   attribute_0     26570 non-null  object \n",
            " 3   attribute_1     26570 non-null  object \n",
            " 4   attribute_2     26570 non-null  int64  \n",
            " 5   attribute_3     26570 non-null  int64  \n",
            " 6   measurement_0   26570 non-null  int64  \n",
            " 7   measurement_1   26570 non-null  int64  \n",
            " 8   measurement_2   26570 non-null  int64  \n",
            " 9   measurement_3   26570 non-null  float64\n",
            " 10  measurement_4   26570 non-null  float64\n",
            " 11  measurement_5   26570 non-null  float64\n",
            " 12  measurement_6   26570 non-null  float64\n",
            " 13  measurement_7   26570 non-null  float64\n",
            " 14  measurement_8   26570 non-null  float64\n",
            " 15  measurement_9   26570 non-null  float64\n",
            " 16  measurement_10  26570 non-null  float64\n",
            " 17  measurement_11  26570 non-null  float64\n",
            " 18  measurement_12  26570 non-null  float64\n",
            " 19  measurement_13  26570 non-null  float64\n",
            " 20  measurement_14  26570 non-null  float64\n",
            " 21  measurement_15  26570 non-null  float64\n",
            " 22  measurement_16  26570 non-null  float64\n",
            " 23  measurement_17  26570 non-null  float64\n",
            " 24  failure         26570 non-null  int64  \n",
            "dtypes: float64(16), int64(6), object(3)\n",
            "memory usage: 5.1+ MB\n"
          ]
        }
      ],
      "source": [
        "# drop all null values\n",
        "train_dat = train_dat.fillna(train_dat.mean())\n",
        "test_dat = test_dat.fillna(test_dat.mean())\n",
        "\n",
        "train_dat.info()"
      ]
    },
    {
      "cell_type": "markdown",
      "metadata": {},
      "source": [
        "### Encoding"
      ]
    },
    {
      "cell_type": "markdown",
      "metadata": {},
      "source": [
        "#### One hot encoding"
      ]
    },
    {
      "cell_type": "code",
      "execution_count": 20,
      "metadata": {},
      "outputs": [],
      "source": [
        "# # Perform one-hot encoding\n",
        "# train_dat = pd.get_dummies(train_dat, columns=['attribute_0', 'attribute_1'])\n",
        "# test_dat = pd.get_dummies(test_dat, columns=['attribute_0', 'attribute_1'])"
      ]
    },
    {
      "cell_type": "markdown",
      "metadata": {},
      "source": [
        "#### Label Encoding"
      ]
    },
    {
      "cell_type": "code",
      "execution_count": 23,
      "metadata": {},
      "outputs": [],
      "source": [
        "def label_encoder(train, test, columns):\n",
        "    for col in columns:\n",
        "        train[col] = train[col].astype(str)\n",
        "        test[col] = test[col].astype(str)\n",
        "        train[col] = LabelEncoder().fit_transform(train[col])\n",
        "        test[col] = LabelEncoder().fit_transform(test[col])\n",
        "    return train, test"
      ]
    },
    {
      "cell_type": "code",
      "execution_count": 24,
      "metadata": {},
      "outputs": [],
      "source": [
        "cat_features = ['product_code','attribute_0', 'attribute_1' ]\n",
        "train_dat, test_dat = label_encoder(train_dat, test_dat, cat_features)"
      ]
    },
    {
      "cell_type": "markdown",
      "metadata": {},
      "source": [
        "## SPLIT TRAIN AND TEST"
      ]
    },
    {
      "cell_type": "code",
      "execution_count": 25,
      "metadata": {
        "id": "mSRiKNXrb47c"
      },
      "outputs": [],
      "source": [
        "# Train test split\n",
        "X_train, y_train, X_valid, y_valid, X_test, y_test = train_valid_test_split(\n",
        "                                        train_dat,\n",
        "                                        target = 'failure',\n",
        "                                        train_size=0.7,\n",
        "                                        random_state=42,\n",
        "                                        )\n",
        "\n",
        "# Memisahkan fitur dengan target\n",
        "full_train = train_dat.drop(columns=[\"failure\"])\n",
        "full_target = train_dat[\"failure\"]"
      ]
    },
    {
      "cell_type": "markdown",
      "metadata": {},
      "source": [
        "## FEATURE SCALING"
      ]
    },
    {
      "cell_type": "code",
      "execution_count": 26,
      "metadata": {
        "id": "6ozDzrB8bh0e"
      },
      "outputs": [],
      "source": [
        "scaler = MinMaxScaler()\n",
        "X_train = scaler.fit_transform(X_train)\n",
        "X_test = scaler.transform(X_test)"
      ]
    },
    {
      "cell_type": "code",
      "execution_count": 27,
      "metadata": {
        "colab": {
          "base_uri": "https://localhost:8080/"
        },
        "id": "5ozhFADaeMUr",
        "outputId": "7717c149-903b-4b60-915b-b938f2522695"
      },
      "outputs": [
        {
          "name": "stdout",
          "output_type": "stream",
          "text": [
            "(18599, 24)\n",
            "(3986, 24)\n"
          ]
        }
      ],
      "source": [
        "print(X_train.shape)\n",
        "print(X_test.shape)"
      ]
    },
    {
      "cell_type": "markdown",
      "metadata": {},
      "source": [
        "#  MODEL"
      ]
    },
    {
      "cell_type": "markdown",
      "metadata": {},
      "source": [
        "### SVM, KNN, Naive Bayes"
      ]
    },
    {
      "cell_type": "code",
      "execution_count": 29,
      "metadata": {},
      "outputs": [
        {
          "data": {
            "image/png": "[encoded data removed]",
            "text/plain": [
              "<Figure size 640x480 with 1 Axes>"
            ]
          },
          "metadata": {},
          "output_type": "display_data"
        }
      ],
      "source": [
        "# Support Vector Machine (SVM)\n",
        "svm_model = SVC()\n",
        "svm_model.fit(X_train, y_train)\n",
        "svm_scores = svm_model.decision_function(X_test)\n",
        "svm_fpr, svm_tpr, _ = roc_curve(y_test, svm_scores)\n",
        "svm_auc = roc_auc_score(y_test, svm_scores)\n",
        "plt.plot(svm_fpr, svm_tpr, label=\"SVM (AUC = {:.2f})\".format(svm_auc))\n",
        "\n",
        "# K-Nearest Neighbors (KNN)\n",
        "knn_model = KNeighborsClassifier()\n",
        "knn_model.fit(X_train, y_train)\n",
        "knn_scores = knn_model.predict_proba(X_test)[:, 1]  # KNN can directly provide probabilities\n",
        "knn_fpr, knn_tpr, _ = roc_curve(y_test, knn_scores)\n",
        "knn_auc = roc_auc_score(y_test, knn_scores)\n",
        "plt.plot(knn_fpr, knn_tpr, label=\"KNN (AUC = {:.2f})\".format(knn_auc))\n",
        "\n",
        "# Naive Bayes\n",
        "nb_model = GaussianNB()\n",
        "nb_model.fit(X_train, y_train)\n",
        "nb_probs = nb_model.predict_proba(X_test)[:, 1]\n",
        "nb_fpr, nb_tpr, _ = roc_curve(y_test, nb_probs)\n",
        "nb_auc = roc_auc_score(y_test, nb_probs)\n",
        "plt.plot(nb_fpr, nb_tpr, label=\"Naive Bayes (AUC = {:.2f})\".format(nb_auc))\n",
        "\n",
        "# Plot ROC curve for random guessing (baseline)\n",
        "plt.plot([0, 1], [0, 1], linestyle='--', color='grey', label='Random Guessing')\n",
        "\n",
        "# Customize the plot\n",
        "plt.xlabel('False Positive Rate')\n",
        "plt.ylabel('True Positive Rate')\n",
        "plt.title('Receiver Operating Characteristic (ROC) Curve')\n",
        "plt.legend()\n",
        "plt.show()"
      ]
    },
    {
      "cell_type": "markdown",
      "metadata": {},
      "source": [
        "### Kaggle Submission\n"
      ]
    },
    {
      "cell_type": "code",
      "execution_count": 39,
      "metadata": {},
      "outputs": [],
      "source": [
        "submission = pd.read_csv(SAMPLE_SUBMISSION_PATH)\n",
        "submission['failure'] = nb_model.predict(test_dat)\n",
        "submission.to_csv('../submissions/submission_2.csv', index=False)"
      ]
    }
  ],
  "metadata": {
    "colab": {
      "collapsed_sections": [
        "iFPNmVB20MRF"
      ],
      "provenance": []
    },
    "kernelspec": {
      "display_name": "Python 3",
      "name": "python3"
    },
    "language_info": {
      "codemirror_mode": {
        "name": "ipython",
        "version": 3
      },
      "file_extension": ".py",
      "mimetype": "text/x-python",
      "name": "python",
      "nbconvert_exporter": "python",
      "pygments_lexer": "ipython3",
      "version": "3.11.1"
    }
  },
  "nbformat": 4,
  "nbformat_minor": 0
}
